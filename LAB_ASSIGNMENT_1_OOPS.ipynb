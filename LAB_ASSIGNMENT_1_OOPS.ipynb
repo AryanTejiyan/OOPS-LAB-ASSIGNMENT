{
  "nbformat": 4,
  "nbformat_minor": 0,
  "metadata": {
    "colab": {
      "name": "LAB ASSIGNMENT 1 -OOPS.ipynb",
      "provenance": [],
      "authorship_tag": "ABX9TyPBzUmrKAFWnY2QJr3n2qQq",
      "include_colab_link": true
    },
    "kernelspec": {
      "name": "python3",
      "display_name": "Python 3"
    },
    "language_info": {
      "name": "python"
    }
  },
  "cells": [
    {
      "cell_type": "markdown",
      "metadata": {
        "id": "view-in-github",
        "colab_type": "text"
      },
      "source": [
        "<a href=\"https://colab.research.google.com/github/AryanTejiyan/OOPS-LAB-ASSIGNMENT/blob/main/LAB_ASSIGNMENT_1_OOPS.ipynb\" target=\"_parent\"><img src=\"https://colab.research.google.com/assets/colab-badge.svg\" alt=\"Open In Colab\"/></a>"
      ]
    },
    {
      "cell_type": "code",
      "metadata": {
        "colab": {
          "base_uri": "https://localhost:8080/"
        },
        "id": "Jq6oAuByQXeA",
        "outputId": "758d03d4-5866-4ebf-9e11-fef87f6191d7"
      },
      "source": [
        "#Problem-1\n",
        "def isLeap(year):\n",
        "  if year%4==0  :\n",
        "    if year%100==0:\n",
        "      if year%400==0:\n",
        "        return True\n",
        "      else:\n",
        "        return False\n",
        "    else:\n",
        "      return False\n",
        "  else:\n",
        "    return False\n",
        "\n",
        "year=int(input())\n",
        "ans=isLeap(year)\n",
        "print(ans)\n",
        "year=int(input())\n",
        "ans=isLeap(year)\n",
        "print(ans)"
      ],
      "execution_count": 1,
      "outputs": [
        {
          "output_type": "stream",
          "name": "stdout",
          "text": [
            "2012\n",
            "False\n",
            "2012\n",
            "False\n"
          ]
        }
      ]
    },
    {
      "cell_type": "code",
      "metadata": {
        "colab": {
          "base_uri": "https://localhost:8080/"
        },
        "id": "9FfxcoUyQ0Di",
        "outputId": "92affd03-8590-406a-a9ff-885619c696ac"
      },
      "source": [
        "#Problem-2\n",
        "n=int(input())\n",
        "if n%2!=0:\n",
        "  print(\"Weird\")\n",
        "elif n%2==0 and n>=2 and n<=5:\n",
        "  print(\"Not Weird\") \n",
        "elif n%2==0 and n>=6 and n<=20:\n",
        "  print(\"Weird\")\n",
        "elif n%2==0 and n>20:\n",
        "  print(\"Not Weird\")"
      ],
      "execution_count": 2,
      "outputs": [
        {
          "output_type": "stream",
          "name": "stdout",
          "text": [
            "5\n",
            "Weird\n"
          ]
        }
      ]
    },
    {
      "cell_type": "code",
      "metadata": {
        "colab": {
          "base_uri": "https://localhost:8080/"
        },
        "id": "0QKlPmCXRH2X",
        "outputId": "01f505cd-5b02-4d8b-e8de-9295cae68c4d"
      },
      "source": [
        "#Problem-3\n",
        "def is_fashionably_late(party_attendees,person):\n",
        "  size=len(party_attendees)\n",
        "  \n",
        "  i=party_attendees.index(person)\n",
        "  if i>=(size/2) and i!=size-1:\n",
        "    return True\n",
        "  else:\n",
        "    return False\n",
        "\n",
        "\n",
        "Arrivals = ['Hardik', 'Rahul', 'Virat', 'Rishabh' , 'Mahi' ,'Rohit', 'Rahae']\n",
        "name=input(\"enter the guest's name\\n\")\n",
        "print(is_fashionably_late(Arrivals,name))\n",
        "name=input(\"enter the guest's name\\n\")\n",
        "is_fashionably_late(Arrivals,name)"
      ],
      "execution_count": 3,
      "outputs": [
        {
          "name": "stdout",
          "output_type": "stream",
          "text": [
            "enter the guest's name\n",
            "Hardik\n",
            "False\n",
            "enter the guest's name\n",
            "Rohit\n"
          ]
        },
        {
          "output_type": "execute_result",
          "data": {
            "text/plain": [
              "True"
            ]
          },
          "metadata": {},
          "execution_count": 3
        }
      ]
    },
    {
      "cell_type": "code",
      "metadata": {
        "colab": {
          "base_uri": "https://localhost:8080/"
        },
        "id": "qxnQGTZrRP9C",
        "outputId": "7671262a-efef-4d44-87cf-443c811dbf14"
      },
      "source": [
        "#Problem-4\n",
        "def filter(list1,word):\n",
        "  available=False\n",
        "  for i in range(0,len(list1)):  \n",
        "    temp=list1[i].split()\n",
        "    for j in range(0,len(temp)):\n",
        "        if word==temp[j] or word.capitalize()==temp[j]:\n",
        "          print(' '.join(temp))\n",
        "          available=True\n",
        "  if i==len(list1)-1 and available==False:\n",
        "    print(\"Not Present\")    \n",
        "doc_list = [\"The Learn Python Challenge Rohit\", \"They bought a car\", \"bangalore\",\" the challenge is accepted\"]\n",
        "key=input(\"Enter keyword to be searched\\n\")\n",
        "filter(doc_list,key)"
      ],
      "execution_count": 4,
      "outputs": [
        {
          "output_type": "stream",
          "name": "stdout",
          "text": [
            "Enter keyword to be searched\n",
            "python\n",
            "The Learn Python Challenge Rohit\n"
          ]
        }
      ]
    },
    {
      "cell_type": "code",
      "metadata": {
        "colab": {
          "base_uri": "https://localhost:8080/"
        },
        "id": "PXFVNAxHReOs",
        "outputId": "ace13789-a37c-4cd4-9af0-14d085d86dec"
      },
      "source": [
        "#Problem-5\n",
        "def gross_pay(bp):\n",
        "  da=0.4*bp\n",
        "  hra=0.2*bp\n",
        "  total=da+hra+bp\n",
        "  return total\n",
        "bp=int(input(\"Enter the Basic Pay\\n\"))\n",
        "gp=gross_pay(bp)\n",
        "print(\"Gross pay is %f\"%gp)"
      ],
      "execution_count": 5,
      "outputs": [
        {
          "output_type": "stream",
          "name": "stdout",
          "text": [
            "Enter the Basic Pay\n",
            "2000\n",
            "Gross pay is 3200.000000\n"
          ]
        }
      ]
    }
  ]
}
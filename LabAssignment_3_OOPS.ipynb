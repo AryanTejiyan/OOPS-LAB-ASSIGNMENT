{
  "nbformat": 4,
  "nbformat_minor": 0,
  "metadata": {
    "colab": {
      "name": "LabAssignment_3_OOPS.ipynb",
      "provenance": [],
      "collapsed_sections": [],
      "authorship_tag": "ABX9TyO4FztXqMU4eLDzRa2L+mj+",
      "include_colab_link": true
    },
    "kernelspec": {
      "name": "python3",
      "display_name": "Python 3"
    },
    "language_info": {
      "name": "python"
    }
  },
  "cells": [
    {
      "cell_type": "markdown",
      "metadata": {
        "id": "view-in-github",
        "colab_type": "text"
      },
      "source": [
        "<a href=\"https://colab.research.google.com/github/AryanTejiyan/OOPS-LAB-ASSIGNMENT/blob/main/LabAssignment_3_OOPS.ipynb\" target=\"_parent\"><img src=\"https://colab.research.google.com/assets/colab-badge.svg\" alt=\"Open In Colab\"/></a>"
      ]
    },
    {
      "cell_type": "code",
      "metadata": {
        "colab": {
          "base_uri": "https://localhost:8080/"
        },
        "id": "GoAGDNYiOWzo",
        "outputId": "7a720046-bbbd-4005-daab-e16d4d8eb51f"
      },
      "source": [
        "class Student:\n",
        "  def getInfo(self):\n",
        "    self.name = input(\"Enter student's name: \")\n",
        "    self.regNo = int(input(\"Enter registration number: \"))\n",
        "    self.age = int(input(\"Enter student's age: \"))\n",
        "    self.gender = input(\"Enter student's gender: \")\n",
        "    self.branch = input(\"Enter student's branch: \")\n",
        "    self.sem = int(input(\"Enter semester: \"))\n",
        "\n",
        "  def displayBasicInfo(self):\n",
        "    print(\"Name:\", self.name+\",\", \"Reg. no.:\", str(self.regNo)+\",\", \"Age:\", str(self.age)+',', \"Gender:\",self.gender+',',\"Branch:\", self.branch+',', \"Semester:\",self.sem)\n",
        "\n",
        "class StudentResultInfo(Student):\n",
        "  def __init__(self, tmarks, percentage, grade):\n",
        "    self.tmarks = tmarks\n",
        "    self.percentage = percentage\n",
        "    self.grade = grade\n",
        "\n",
        "  def displayInfo(self):\n",
        "    print(\"\\nBASIC INFO\")\n",
        "    self.displayBasicInfo()\n",
        "    print(\"RESULTS\\nTotal marks:\", str(self.tmarks)+',', \"Percentage:\", str(self.percentage)+'%,', \"Grade:\", self.grade)\n",
        "\n",
        "std1 = StudentResultInfo(495, 98, 'A+')\n",
        "std1.getInfo()\n",
        "std1.displayBasicInfo()\n",
        "std1.displayInfo()\n"
      ],
      "execution_count": 2,
      "outputs": [
        {
          "output_type": "stream",
          "name": "stdout",
          "text": [
            "Enter student's name: AryanTejiyan\n",
            "Enter registration number: 021\n",
            "Enter student's age: 20\n",
            "Enter student's gender: M\n",
            "Enter student's branch: CSE\n",
            "Enter semester: 3\n",
            "Name: AryanTejiyan, Reg. no.: 21, Age: 20, Gender: M, Branch: CSE, Semester: 3\n",
            "\n",
            "BASIC INFO\n",
            "Name: AryanTejiyan, Reg. no.: 21, Age: 20, Gender: M, Branch: CSE, Semester: 3\n",
            "RESULTS\n",
            "Total marks: 495, Percentage: 98%, Grade: A+\n"
          ]
        }
      ]
    },
    {
      "cell_type": "code",
      "metadata": {
        "colab": {
          "base_uri": "https://localhost:8080/"
        },
        "id": "XPcUTpCRRAt4",
        "outputId": "bfb0b8f0-8427-4d25-d652-576cc012fd0b"
      },
      "source": [
        "class pdf:\n",
        "    def __init__(self,creator,desc,size):\n",
        "        self.creator = creator\n",
        "        self.description = desc\n",
        "        self.size = size\n",
        "\n",
        "class pictures(pdf):\n",
        "    def __init__(self,creator,desc,size,dimensions = [0,0]):\n",
        "        self.dimensions = dimensions\n",
        "        pdf.__init__(self,creator,desc,size)\n",
        "\n",
        "\n",
        "    def FileSize(self,threshold):\n",
        "        if threshold[0]*threshold[1]<self.dimensions[0]*self.dimensions[1]:\n",
        "            return True\n",
        "            print(\"File Larger than Given threshhold.\")\n",
        "        return False\n",
        "        print(\"File does not exceed given Limit.\")\n",
        "    \n",
        "    def DocDetails(self):\n",
        "        if self.dimensions != [0,0]:\n",
        "            print(f\"Dimensions: {self.dimensions[0]} X {self.dimensions[1]}\")\n",
        "\n",
        "        print(f\"File Creator: {self.creator}\")\n",
        "        print(f\"Description: {self.description}\")\n",
        "        print(f\"File Size(kb): {self.size}\")\n",
        "\n",
        "random_pic = pictures(\"Aman\",\"It was taken Yesterday.\",1024,[1920,1080])\n",
        "random_pic.FileSize([3400,920])\n",
        "random_pic.DocDetails()\n",
        "\n",
        "random_pdf = pictures(\"Pawan\",\"It is a good photo.\",2048)\n",
        "random_pdf.DocDetails()\n"
      ],
      "execution_count": 7,
      "outputs": [
        {
          "output_type": "stream",
          "name": "stdout",
          "text": [
            "Dimensions: 1920 X 1080\n",
            "File Creator: Aman\n",
            "Description: It was taken Yesterday.\n",
            "File Size(kb): 1024\n",
            "File Creator: Pawan\n",
            "Description: It is a good photo.\n",
            "File Size(kb): 2048\n"
          ]
        }
      ]
    },
    {
      "cell_type": "code",
      "metadata": {
        "colab": {
          "base_uri": "https://localhost:8080/"
        },
        "id": "Eh3dJOwWQXBQ",
        "outputId": "3ddfd056-84f9-40f9-f06f-3eec6dc9b157"
      },
      "source": [
        "class Vehicle:\n",
        "  def __init__(self, name, mileage, capacity):      #mileage assumed to be in Kmpl\n",
        "    self.name = name\n",
        "    self.mileage = mileage\n",
        "    self.capacity = capacity\n",
        "\n",
        "  def fare(self):\n",
        "    return self.capacity*100\n",
        "\n",
        "class Bus(Vehicle):\n",
        "  def busFare(self):\n",
        "    return 1.1*self.fare()\n",
        "\n",
        "bus = Bus(\"Ashok Leyland\", 3.63, 50)\n",
        "print(\"Name: {0.name}, Mileage: {0.mileage}Kmpl, Capacity: {0.capacity}, \\nBus fare: Rs. {1}\".format(bus, bus.busFare()))"
      ],
      "execution_count": 6,
      "outputs": [
        {
          "output_type": "stream",
          "name": "stdout",
          "text": [
            "Name: Ashok Leyland, Mileage: 3.63Kmpl, Capacity: 50, \n",
            "Bus fare: Rs. 5500.0\n"
          ]
        }
      ]
    }
  ]
}